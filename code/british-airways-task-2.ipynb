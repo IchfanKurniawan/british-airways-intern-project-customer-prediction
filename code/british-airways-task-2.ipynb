{
 "cells": [
  {
   "cell_type": "markdown",
   "metadata": {},
   "source": [
    "# Predicting customer buying behaviour  \n",
    "### British Airways Project - Task 2  \n",
    "Build a predictive model to understand factors that influence buying behaviour  \n",
    "\n",
    "---  \n",
    "---  \n",
    "\n",
    "## <span id='all'> Summary</span>  \n",
    "Lorem ipsum dolor sit amet, consectetur adipiscing elit. Maecenas lobortis augue vel tristique semper. Etiam eu lectus a leo molestie venenatis ac nec tortor. Suspendisse ornare, ipsum vitae mattis consequat, augue leo volutpat dolor, et hendrerit arcu massa quis nisl. Sed nibh risus, blandit non vehicula id, euismod eu lacus. Curabitur scelerisque metus velit, et tincidunt mauris ultricies vitae. \n",
    "\n",
    "---  \n",
    "---  \n",
    "## <span id='all'>All about Projects</span>  \n",
    "    \n",
    "#### Project Context  \n",
    "Customers are more empowered than ever because they have access to a wealth of information at their fingertips. This is one of the reasons the buying cycle is very different to what it used to be. Today, if you’re hoping that a customer purchases your flights or holidays as they come into the airport, you’ve already lost! Being reactive in this situation is not ideal; airlines must be proactive in order to acquire customers before they embark on their holiday.  \n",
    "\n",
    "This is possible with the use of data and predictive models. The most important factor with a predictive model is the quality of the data you use to train the machine learning algorithms. For this task, you must manipulate and prepare the provided customer booking data so that you can build a high-quality predictive model.  \n",
    "\n",
    "With your predictive model, it is important to interpret the results in order to understand how “predictive” the data really was and whether we can feasibly use it to predict the target outcome (customers buying holidays). Therefore, you should evaluate the model's performance and output how each variable contributes to the predictive model's power.  \n",
    "\n",
    "\n",
    "#### Project Requirement   \n",
    "\n",
    "1. Explore and prepare the dataset  \n",
    "2. Train a machine learning model to predict the booking action from customer & find the most influential factors  \n",
    "3. Evaluate model and present findings  \n",
    "\n",
    "#### Project Planning  \n",
    "1. Exploratory Data Analysis (EDA)\n",
    "    - Data Structure Check (shape, datatype, head, tail)\n",
    "    - Data Quality Check (missing value, outlier, distribution)\n",
    "    - Data Cleaning (missing value, outlier, inappropiate values, high cardinality)\n",
    "    - Content Investigation (hypothesis testing, predictive power check through descriptive/visualization and analytics)\n",
    "2. Data Preporcessing & Feature Engineering\n",
    "3. Feature Selection\n",
    "4. Models Training\n",
    "5. Models Evaluation  \n",
    "\n",
    "---  \n",
    "---  \n",
    "\n",
    "## Content  \n",
    "\n",
    "  \n",
    "[**Summary**](#summary)  \n",
    "[**All About Project**](#all)  \n",
    "[**Content**](#content)   \n",
    "  \n",
    "[**1. Exploratory Data Analysis (EDA)**](#1)  \n",
    "    - [Data Structure Check](#1.1)  \n",
    "    - [Data Quality Check](#1.2)  \n",
    "    - [Univariate Analysis](#1.3)    \n",
    "    - [Bivariate Analysis](#1.4)  \n",
    "    - [Data Cleaning](#1.5)  \n",
    "    - [Content Investigation/Ad-hoc Analysis](#1.6)  \n",
    "[**2. Data Preporcessing & Feature Engineering**](#2)  \n",
    "[**3. Feature Selection**](#3)  \n",
    "[**4. Models Training**](#4)  \n",
    "[**5. Models Evaluation**](#5)  \n",
    "\n",
    "---\n",
    "---  \n"
   ]
  },
  {
   "cell_type": "markdown",
   "metadata": {},
   "source": [
    "## <span id=1> 1. Exploratory Data Analysis (EDA)</span>  "
   ]
  },
  {
   "cell_type": "code",
   "execution_count": null,
   "metadata": {},
   "outputs": [],
   "source": []
  },
  {
   "cell_type": "markdown",
   "metadata": {},
   "source": [
    "## <span id=2> 2. Data Preporcessing & Feature Engineering</span>  "
   ]
  },
  {
   "cell_type": "code",
   "execution_count": null,
   "metadata": {},
   "outputs": [],
   "source": []
  },
  {
   "cell_type": "markdown",
   "metadata": {},
   "source": [
    "## <span id=3> 3. Feature Selection</span>  "
   ]
  },
  {
   "cell_type": "code",
   "execution_count": null,
   "metadata": {},
   "outputs": [],
   "source": []
  },
  {
   "cell_type": "markdown",
   "metadata": {},
   "source": [
    "## <span id=4> 4. Models Training</span>  "
   ]
  },
  {
   "cell_type": "code",
   "execution_count": null,
   "metadata": {},
   "outputs": [],
   "source": []
  },
  {
   "cell_type": "markdown",
   "metadata": {},
   "source": [
    "## <span id=5> 5. Models Evaluation</span>  "
   ]
  },
  {
   "cell_type": "code",
   "execution_count": null,
   "metadata": {},
   "outputs": [],
   "source": []
  }
 ],
 "metadata": {
  "kernelspec": {
   "display_name": "Python [conda env:ml_env]",
   "language": "python",
   "name": "conda-env-ml_env-py"
  },
  "language_info": {
   "codemirror_mode": {
    "name": "ipython",
    "version": 3
   },
   "file_extension": ".py",
   "mimetype": "text/x-python",
   "name": "python",
   "nbconvert_exporter": "python",
   "pygments_lexer": "ipython3",
   "version": "3.9.13"
  }
 },
 "nbformat": 4,
 "nbformat_minor": 4
}
